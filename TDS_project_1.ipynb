{
 "cells": [
  {
   "cell_type": "markdown",
   "metadata": {
    "id": "osl7Nox1a55G"
   },
   "source": [
    "# Importing required modules"
   ]
  },
  {
   "cell_type": "code",
   "execution_count": 74,
   "metadata": {
    "id": "3GpNyRica45X"
   },
   "outputs": [],
   "source": [
    "import requests\n",
    "import pandas as pd\n",
    "from datetime import datetime\n",
    "import statsmodels.api as sm\n",
    "from scipy.stats import pearsonr"
   ]
  },
  {
   "cell_type": "markdown",
   "metadata": {
    "id": "PkmP2AK7kRH9"
   },
   "source": [
    "# Extracting Data from github"
   ]
  },
  {
   "cell_type": "code",
   "execution_count": null,
   "metadata": {
    "colab": {
     "base_uri": "https://localhost:8080/"
    },
    "id": "R_6wCCitjrAR",
    "outputId": "32be75ad-be3f-4538-b918-96588de5920d"
   },
   "outputs": [
    {
     "name": "stdout",
     "output_type": "stream",
     "text": [
      "Fetching users...\n",
      "Saved users to users.csv\n",
      "Fetching repositories...\n",
      "Saved repositories to repositories.csv\n"
     ]
    }
   ],
   "source": [
    "# Set up GitHub API and authentication\n",
    "GITHUB_TOKEN = 'user your token here'\n",
    "HEADERS = {'Authorization': f'token {GITHUB_TOKEN}'}\n",
    "BASE_URL = 'https://api.github.com'\n",
    "\n",
    "# Helper function to clean up company names\n",
    "def clean_company(company):\n",
    "    if company:\n",
    "        return company.strip().replace('@', '').upper()\n",
    "    return None\n",
    "\n",
    "# Function to get users from Hyderabad with over 50 followers\n",
    "def fetch_users(location=\"Hyderabad\", min_followers=50):\n",
    "    users = []\n",
    "    url = f\"{BASE_URL}/search/users\"\n",
    "    params = {\n",
    "        \"q\": f\"location:{location} followers:>{min_followers}\",\n",
    "        \"per_page\": 100\n",
    "    }\n",
    "\n",
    "    while url:\n",
    "        response = requests.get(url, headers=HEADERS, params=params)\n",
    "        data = response.json()\n",
    "\n",
    "        for item in data.get('items', []):\n",
    "            user_data = requests.get(f\"{BASE_URL}/users/{item['login']}\", headers=HEADERS).json()\n",
    "            users.append({\n",
    "                'login': user_data.get('login'),\n",
    "                'name': user_data.get('name'),\n",
    "                'company': clean_company(user_data.get('company')),\n",
    "                'location': user_data.get('location'),\n",
    "                'email': user_data.get('email'),\n",
    "                'hireable': user_data.get('hireable'),\n",
    "                'bio': user_data.get('bio'),\n",
    "                'public_repos': user_data.get('public_repos'),\n",
    "                'followers': user_data.get('followers'),\n",
    "                'following': user_data.get('following'),\n",
    "                'created_at': user_data.get('created_at')\n",
    "            })\n",
    "\n",
    "        # Get the 'next' link for pagination if available\n",
    "        if 'next' in response.links:\n",
    "            url = response.links['next']['url']\n",
    "        else:\n",
    "            url = None\n",
    "    return users\n",
    "\n",
    "# Function to get repositories for each user\n",
    "def fetch_repositories(username):\n",
    "    repos = []\n",
    "    url = f\"{BASE_URL}/users/{username}/repos\"\n",
    "    params = {\"per_page\": 100, \"sort\": \"pushed\"}\n",
    "\n",
    "    while url:\n",
    "        response = requests.get(url, headers=HEADERS, params=params)\n",
    "        data = response.json()\n",
    "\n",
    "        for repo in data:\n",
    "            repos.append({\n",
    "                'login': username,\n",
    "                'full_name': repo.get('full_name'),\n",
    "                'created_at': repo.get('created_at'),\n",
    "                'stargazers_count': repo.get('stargazers_count'),\n",
    "                'watchers_count': repo.get('watchers_count'),\n",
    "                'language': repo.get('language'),\n",
    "                'has_projects': repo.get('has_projects'),\n",
    "                'has_wiki': repo.get('has_wiki'),\n",
    "                'license_name': repo.get('license')['key'] if repo.get('license') else None  # Handle None license\n",
    "            })\n",
    "            if len(repos) >= 500:\n",
    "                break\n",
    "\n",
    "        # Get the 'next' link for pagination if available\n",
    "        if 'next' in response.links:\n",
    "            url = response.links['next']['url']\n",
    "        else:\n",
    "            url = None\n",
    "    return repos\n",
    "\n",
    "# Main script to fetch data and save to CSV\n",
    "def main():\n",
    "    # Fetch users\n",
    "    print(\"Fetching users...\")\n",
    "    users = fetch_users()\n",
    "    users_df = pd.DataFrame(users)\n",
    "    users_df.to_csv(\"users.csv\", index=False)\n",
    "    print(\"Saved users to users.csv\")\n",
    "\n",
    "    # Fetch repositories for each user\n",
    "    print(\"Fetching repositories...\")\n",
    "    all_repos = []\n",
    "    for user in users:\n",
    "        repos = fetch_repositories(user['login'])\n",
    "        all_repos.extend(repos)\n",
    "\n",
    "    # Save to repositories.csv\n",
    "    repos_df = pd.DataFrame(all_repos)\n",
    "    repos_df.to_csv(\"repositories.csv\", index=False)\n",
    "    print(\"Saved repositories to repositories.csv\")\n",
    "\n",
    "if __name__ == \"__main__\":\n",
    "    main()\n"
   ]
  },
  {
   "cell_type": "markdown",
   "metadata": {
    "id": "gRGmPq0vcD-o"
   },
   "source": [
    "# Reading the extracting data"
   ]
  },
  {
   "cell_type": "code",
   "execution_count": 3,
   "metadata": {
    "colab": {
     "base_uri": "https://localhost:8080/",
     "height": 313
    },
    "id": "a9ePx3avkihU",
    "outputId": "d28ac06f-6ce5-4afa-9950-9defce5fccf2"
   },
   "outputs": [
    {
     "data": {
      "application/vnd.google.colaboratory.intrinsic+json": {
       "summary": "{\n  \"name\": \"users\",\n  \"rows\": 504,\n  \"fields\": [\n    {\n      \"column\": \"login\",\n      \"properties\": {\n        \"dtype\": \"string\",\n        \"num_unique_values\": 504,\n        \"samples\": [\n          \"ERAMITDHOMNE\",\n          \"Vikr-182\",\n          \"AnirG\"\n        ],\n        \"semantic_type\": \"\",\n        \"description\": \"\"\n      }\n    },\n    {\n      \"column\": \"name\",\n      \"properties\": {\n        \"dtype\": \"string\",\n        \"num_unique_values\": 496,\n        \"samples\": [\n          \"Dixit Kumar Garg\",\n          \"Mohammed Ajmal Siddiqui\",\n          \"Anishka Sachdeva\"\n        ],\n        \"semantic_type\": \"\",\n        \"description\": \"\"\n      }\n    },\n    {\n      \"column\": \"company\",\n      \"properties\": {\n        \"dtype\": \"category\",\n        \"num_unique_values\": 248,\n        \"samples\": [\n          \"UIBRAINS TECHNOLOGIES\",\n          \"ASHOK IT\",\n          \"SIMPLEVIRALGAMES\"\n        ],\n        \"semantic_type\": \"\",\n        \"description\": \"\"\n      }\n    },\n    {\n      \"column\": \"location\",\n      \"properties\": {\n        \"dtype\": \"category\",\n        \"num_unique_values\": 53,\n        \"samples\": [\n          \"Hyderabad, India \",\n          \"Hyderabad , Sindh\",\n          \"Hyderabad,Telangana,India\"\n        ],\n        \"semantic_type\": \"\",\n        \"description\": \"\"\n      }\n    },\n    {\n      \"column\": \"email\",\n      \"properties\": {\n        \"dtype\": \"string\",\n        \"num_unique_values\": 264,\n        \"samples\": [\n          \"urvashi.officialcse@gmail.com\",\n          \"epoch@gymkhana.iith.ac.in\",\n          \"sanjushasuresh19@gmail.com\"\n        ],\n        \"semantic_type\": \"\",\n        \"description\": \"\"\n      }\n    },\n    {\n      \"column\": \"hireable\",\n      \"properties\": {\n        \"dtype\": \"category\",\n        \"num_unique_values\": 1,\n        \"samples\": [\n          true\n        ],\n        \"semantic_type\": \"\",\n        \"description\": \"\"\n      }\n    },\n    {\n      \"column\": \"bio\",\n      \"properties\": {\n        \"dtype\": \"string\",\n        \"num_unique_values\": 413,\n        \"samples\": [\n          \"prudentia est solum per passionem consummare\\r\\n\"\n        ],\n        \"semantic_type\": \"\",\n        \"description\": \"\"\n      }\n    },\n    {\n      \"column\": \"public_repos\",\n      \"properties\": {\n        \"dtype\": \"number\",\n        \"std\": 88,\n        \"min\": 0,\n        \"max\": 900,\n        \"num_unique_values\": 170,\n        \"samples\": [\n          126\n        ],\n        \"semantic_type\": \"\",\n        \"description\": \"\"\n      }\n    },\n    {\n      \"column\": \"followers\",\n      \"properties\": {\n        \"dtype\": \"number\",\n        \"std\": 983,\n        \"min\": 51,\n        \"max\": 16231,\n        \"num_unique_values\": 178,\n        \"samples\": [\n          511\n        ],\n        \"semantic_type\": \"\",\n        \"description\": \"\"\n      }\n    },\n    {\n      \"column\": \"following\",\n      \"properties\": {\n        \"dtype\": \"number\",\n        \"std\": 228,\n        \"min\": 0,\n        \"max\": 3069,\n        \"num_unique_values\": 178,\n        \"samples\": [\n          7\n        ],\n        \"semantic_type\": \"\",\n        \"description\": \"\"\n      }\n    },\n    {\n      \"column\": \"created_at\",\n      \"properties\": {\n        \"dtype\": \"object\",\n        \"num_unique_values\": 459,\n        \"samples\": [\n          \"2010-06-24\"\n        ],\n        \"semantic_type\": \"\",\n        \"description\": \"\"\n      }\n    }\n  ]\n}",
       "type": "dataframe",
       "variable_name": "users"
      },
      "text/html": [
       "\n",
       "  <div id=\"df-742e1004-06d8-4302-b3ed-64330c0860e1\" class=\"colab-df-container\">\n",
       "    <div>\n",
       "<style scoped>\n",
       "    .dataframe tbody tr th:only-of-type {\n",
       "        vertical-align: middle;\n",
       "    }\n",
       "\n",
       "    .dataframe tbody tr th {\n",
       "        vertical-align: top;\n",
       "    }\n",
       "\n",
       "    .dataframe thead th {\n",
       "        text-align: right;\n",
       "    }\n",
       "</style>\n",
       "<table border=\"1\" class=\"dataframe\">\n",
       "  <thead>\n",
       "    <tr style=\"text-align: right;\">\n",
       "      <th></th>\n",
       "      <th>login</th>\n",
       "      <th>name</th>\n",
       "      <th>company</th>\n",
       "      <th>location</th>\n",
       "      <th>email</th>\n",
       "      <th>hireable</th>\n",
       "      <th>bio</th>\n",
       "      <th>public_repos</th>\n",
       "      <th>followers</th>\n",
       "      <th>following</th>\n",
       "      <th>created_at</th>\n",
       "    </tr>\n",
       "  </thead>\n",
       "  <tbody>\n",
       "    <tr>\n",
       "      <th>0</th>\n",
       "      <td>iam-veeramalla</td>\n",
       "      <td>Abhishek Veeramalla</td>\n",
       "      <td>RED HAT</td>\n",
       "      <td>Hyderabad, India</td>\n",
       "      <td>NaN</td>\n",
       "      <td>NaN</td>\n",
       "      <td>Keep learning, sharing and growing || Principa...</td>\n",
       "      <td>45</td>\n",
       "      <td>16231</td>\n",
       "      <td>1</td>\n",
       "      <td>2018-09-19</td>\n",
       "    </tr>\n",
       "    <tr>\n",
       "      <th>1</th>\n",
       "      <td>in28minutes</td>\n",
       "      <td>NaN</td>\n",
       "      <td>IN28MINUTES</td>\n",
       "      <td>Hyderabad, India</td>\n",
       "      <td>in28minutes@gmail.com</td>\n",
       "      <td>True</td>\n",
       "      <td>Helping 1 Million Learners learn Programming, ...</td>\n",
       "      <td>102</td>\n",
       "      <td>14368</td>\n",
       "      <td>0</td>\n",
       "      <td>2015-09-05</td>\n",
       "    </tr>\n",
       "    <tr>\n",
       "      <th>2</th>\n",
       "      <td>stacksimplify</td>\n",
       "      <td>STACKSIMPLIFY</td>\n",
       "      <td>STACKSIMPLIFY</td>\n",
       "      <td>Hyderabad</td>\n",
       "      <td>stacksimplify@gmail.com</td>\n",
       "      <td>NaN</td>\n",
       "      <td>Best Selling Instructor on Udemy - 2,10,000 St...</td>\n",
       "      <td>47</td>\n",
       "      <td>3233</td>\n",
       "      <td>0</td>\n",
       "      <td>2019-03-07</td>\n",
       "    </tr>\n",
       "    <tr>\n",
       "      <th>3</th>\n",
       "      <td>thenaveensaggam</td>\n",
       "      <td>NAVEEN SAGGAM</td>\n",
       "      <td>HTTPS://WWW.UIBRAINS.COM</td>\n",
       "      <td>Hyderabad</td>\n",
       "      <td>thenaveensaggam@gmail.com</td>\n",
       "      <td>NaN</td>\n",
       "      <td>Founder: UiBrains Technologies\\r\\nEnthusiastic...</td>\n",
       "      <td>43</td>\n",
       "      <td>2164</td>\n",
       "      <td>1</td>\n",
       "      <td>2017-02-18</td>\n",
       "    </tr>\n",
       "    <tr>\n",
       "      <th>4</th>\n",
       "      <td>MadhavBahl</td>\n",
       "      <td>MADHAV BAHL</td>\n",
       "      <td>MICROSOFT</td>\n",
       "      <td>Hyderabad, India</td>\n",
       "      <td>madhavbahl10@gmail.com</td>\n",
       "      <td>True</td>\n",
       "      <td>The Lean Programmer | Software Engineer @Micro...</td>\n",
       "      <td>128</td>\n",
       "      <td>1589</td>\n",
       "      <td>1</td>\n",
       "      <td>2017-03-04</td>\n",
       "    </tr>\n",
       "  </tbody>\n",
       "</table>\n",
       "</div>\n",
       "    <div class=\"colab-df-buttons\">\n",
       "\n",
       "  <div class=\"colab-df-container\">\n",
       "    <button class=\"colab-df-convert\" onclick=\"convertToInteractive('df-742e1004-06d8-4302-b3ed-64330c0860e1')\"\n",
       "            title=\"Convert this dataframe to an interactive table.\"\n",
       "            style=\"display:none;\">\n",
       "\n",
       "  <svg xmlns=\"http://www.w3.org/2000/svg\" height=\"24px\" viewBox=\"0 -960 960 960\">\n",
       "    <path d=\"M120-120v-720h720v720H120Zm60-500h600v-160H180v160Zm220 220h160v-160H400v160Zm0 220h160v-160H400v160ZM180-400h160v-160H180v160Zm440 0h160v-160H620v160ZM180-180h160v-160H180v160Zm440 0h160v-160H620v160Z\"/>\n",
       "  </svg>\n",
       "    </button>\n",
       "\n",
       "  <style>\n",
       "    .colab-df-container {\n",
       "      display:flex;\n",
       "      gap: 12px;\n",
       "    }\n",
       "\n",
       "    .colab-df-convert {\n",
       "      background-color: #E8F0FE;\n",
       "      border: none;\n",
       "      border-radius: 50%;\n",
       "      cursor: pointer;\n",
       "      display: none;\n",
       "      fill: #1967D2;\n",
       "      height: 32px;\n",
       "      padding: 0 0 0 0;\n",
       "      width: 32px;\n",
       "    }\n",
       "\n",
       "    .colab-df-convert:hover {\n",
       "      background-color: #E2EBFA;\n",
       "      box-shadow: 0px 1px 2px rgba(60, 64, 67, 0.3), 0px 1px 3px 1px rgba(60, 64, 67, 0.15);\n",
       "      fill: #174EA6;\n",
       "    }\n",
       "\n",
       "    .colab-df-buttons div {\n",
       "      margin-bottom: 4px;\n",
       "    }\n",
       "\n",
       "    [theme=dark] .colab-df-convert {\n",
       "      background-color: #3B4455;\n",
       "      fill: #D2E3FC;\n",
       "    }\n",
       "\n",
       "    [theme=dark] .colab-df-convert:hover {\n",
       "      background-color: #434B5C;\n",
       "      box-shadow: 0px 1px 3px 1px rgba(0, 0, 0, 0.15);\n",
       "      filter: drop-shadow(0px 1px 2px rgba(0, 0, 0, 0.3));\n",
       "      fill: #FFFFFF;\n",
       "    }\n",
       "  </style>\n",
       "\n",
       "    <script>\n",
       "      const buttonEl =\n",
       "        document.querySelector('#df-742e1004-06d8-4302-b3ed-64330c0860e1 button.colab-df-convert');\n",
       "      buttonEl.style.display =\n",
       "        google.colab.kernel.accessAllowed ? 'block' : 'none';\n",
       "\n",
       "      async function convertToInteractive(key) {\n",
       "        const element = document.querySelector('#df-742e1004-06d8-4302-b3ed-64330c0860e1');\n",
       "        const dataTable =\n",
       "          await google.colab.kernel.invokeFunction('convertToInteractive',\n",
       "                                                    [key], {});\n",
       "        if (!dataTable) return;\n",
       "\n",
       "        const docLinkHtml = 'Like what you see? Visit the ' +\n",
       "          '<a target=\"_blank\" href=https://colab.research.google.com/notebooks/data_table.ipynb>data table notebook</a>'\n",
       "          + ' to learn more about interactive tables.';\n",
       "        element.innerHTML = '';\n",
       "        dataTable['output_type'] = 'display_data';\n",
       "        await google.colab.output.renderOutput(dataTable, element);\n",
       "        const docLink = document.createElement('div');\n",
       "        docLink.innerHTML = docLinkHtml;\n",
       "        element.appendChild(docLink);\n",
       "      }\n",
       "    </script>\n",
       "  </div>\n",
       "\n",
       "\n",
       "<div id=\"df-7f7c74be-d765-4fd4-b82e-abf6c4d89e35\">\n",
       "  <button class=\"colab-df-quickchart\" onclick=\"quickchart('df-7f7c74be-d765-4fd4-b82e-abf6c4d89e35')\"\n",
       "            title=\"Suggest charts\"\n",
       "            style=\"display:none;\">\n",
       "\n",
       "<svg xmlns=\"http://www.w3.org/2000/svg\" height=\"24px\"viewBox=\"0 0 24 24\"\n",
       "     width=\"24px\">\n",
       "    <g>\n",
       "        <path d=\"M19 3H5c-1.1 0-2 .9-2 2v14c0 1.1.9 2 2 2h14c1.1 0 2-.9 2-2V5c0-1.1-.9-2-2-2zM9 17H7v-7h2v7zm4 0h-2V7h2v10zm4 0h-2v-4h2v4z\"/>\n",
       "    </g>\n",
       "</svg>\n",
       "  </button>\n",
       "\n",
       "<style>\n",
       "  .colab-df-quickchart {\n",
       "      --bg-color: #E8F0FE;\n",
       "      --fill-color: #1967D2;\n",
       "      --hover-bg-color: #E2EBFA;\n",
       "      --hover-fill-color: #174EA6;\n",
       "      --disabled-fill-color: #AAA;\n",
       "      --disabled-bg-color: #DDD;\n",
       "  }\n",
       "\n",
       "  [theme=dark] .colab-df-quickchart {\n",
       "      --bg-color: #3B4455;\n",
       "      --fill-color: #D2E3FC;\n",
       "      --hover-bg-color: #434B5C;\n",
       "      --hover-fill-color: #FFFFFF;\n",
       "      --disabled-bg-color: #3B4455;\n",
       "      --disabled-fill-color: #666;\n",
       "  }\n",
       "\n",
       "  .colab-df-quickchart {\n",
       "    background-color: var(--bg-color);\n",
       "    border: none;\n",
       "    border-radius: 50%;\n",
       "    cursor: pointer;\n",
       "    display: none;\n",
       "    fill: var(--fill-color);\n",
       "    height: 32px;\n",
       "    padding: 0;\n",
       "    width: 32px;\n",
       "  }\n",
       "\n",
       "  .colab-df-quickchart:hover {\n",
       "    background-color: var(--hover-bg-color);\n",
       "    box-shadow: 0 1px 2px rgba(60, 64, 67, 0.3), 0 1px 3px 1px rgba(60, 64, 67, 0.15);\n",
       "    fill: var(--button-hover-fill-color);\n",
       "  }\n",
       "\n",
       "  .colab-df-quickchart-complete:disabled,\n",
       "  .colab-df-quickchart-complete:disabled:hover {\n",
       "    background-color: var(--disabled-bg-color);\n",
       "    fill: var(--disabled-fill-color);\n",
       "    box-shadow: none;\n",
       "  }\n",
       "\n",
       "  .colab-df-spinner {\n",
       "    border: 2px solid var(--fill-color);\n",
       "    border-color: transparent;\n",
       "    border-bottom-color: var(--fill-color);\n",
       "    animation:\n",
       "      spin 1s steps(1) infinite;\n",
       "  }\n",
       "\n",
       "  @keyframes spin {\n",
       "    0% {\n",
       "      border-color: transparent;\n",
       "      border-bottom-color: var(--fill-color);\n",
       "      border-left-color: var(--fill-color);\n",
       "    }\n",
       "    20% {\n",
       "      border-color: transparent;\n",
       "      border-left-color: var(--fill-color);\n",
       "      border-top-color: var(--fill-color);\n",
       "    }\n",
       "    30% {\n",
       "      border-color: transparent;\n",
       "      border-left-color: var(--fill-color);\n",
       "      border-top-color: var(--fill-color);\n",
       "      border-right-color: var(--fill-color);\n",
       "    }\n",
       "    40% {\n",
       "      border-color: transparent;\n",
       "      border-right-color: var(--fill-color);\n",
       "      border-top-color: var(--fill-color);\n",
       "    }\n",
       "    60% {\n",
       "      border-color: transparent;\n",
       "      border-right-color: var(--fill-color);\n",
       "    }\n",
       "    80% {\n",
       "      border-color: transparent;\n",
       "      border-right-color: var(--fill-color);\n",
       "      border-bottom-color: var(--fill-color);\n",
       "    }\n",
       "    90% {\n",
       "      border-color: transparent;\n",
       "      border-bottom-color: var(--fill-color);\n",
       "    }\n",
       "  }\n",
       "</style>\n",
       "\n",
       "  <script>\n",
       "    async function quickchart(key) {\n",
       "      const quickchartButtonEl =\n",
       "        document.querySelector('#' + key + ' button');\n",
       "      quickchartButtonEl.disabled = true;  // To prevent multiple clicks.\n",
       "      quickchartButtonEl.classList.add('colab-df-spinner');\n",
       "      try {\n",
       "        const charts = await google.colab.kernel.invokeFunction(\n",
       "            'suggestCharts', [key], {});\n",
       "      } catch (error) {\n",
       "        console.error('Error during call to suggestCharts:', error);\n",
       "      }\n",
       "      quickchartButtonEl.classList.remove('colab-df-spinner');\n",
       "      quickchartButtonEl.classList.add('colab-df-quickchart-complete');\n",
       "    }\n",
       "    (() => {\n",
       "      let quickchartButtonEl =\n",
       "        document.querySelector('#df-7f7c74be-d765-4fd4-b82e-abf6c4d89e35 button');\n",
       "      quickchartButtonEl.style.display =\n",
       "        google.colab.kernel.accessAllowed ? 'block' : 'none';\n",
       "    })();\n",
       "  </script>\n",
       "</div>\n",
       "\n",
       "    </div>\n",
       "  </div>\n"
      ],
      "text/plain": [
       "             login                 name                   company  \\\n",
       "0   iam-veeramalla  Abhishek Veeramalla                   RED HAT   \n",
       "1      in28minutes                  NaN               IN28MINUTES   \n",
       "2    stacksimplify        STACKSIMPLIFY             STACKSIMPLIFY   \n",
       "3  thenaveensaggam        NAVEEN SAGGAM  HTTPS://WWW.UIBRAINS.COM   \n",
       "4       MadhavBahl          MADHAV BAHL                 MICROSOFT   \n",
       "\n",
       "           location                      email hireable  \\\n",
       "0  Hyderabad, India                        NaN      NaN   \n",
       "1  Hyderabad, India      in28minutes@gmail.com     True   \n",
       "2         Hyderabad    stacksimplify@gmail.com      NaN   \n",
       "3         Hyderabad  thenaveensaggam@gmail.com      NaN   \n",
       "4  Hyderabad, India     madhavbahl10@gmail.com     True   \n",
       "\n",
       "                                                 bio  public_repos  followers  \\\n",
       "0  Keep learning, sharing and growing || Principa...            45      16231   \n",
       "1  Helping 1 Million Learners learn Programming, ...           102      14368   \n",
       "2  Best Selling Instructor on Udemy - 2,10,000 St...            47       3233   \n",
       "3  Founder: UiBrains Technologies\\r\\nEnthusiastic...            43       2164   \n",
       "4  The Lean Programmer | Software Engineer @Micro...           128       1589   \n",
       "\n",
       "   following  created_at  \n",
       "0          1  2018-09-19  \n",
       "1          0  2015-09-05  \n",
       "2          0  2019-03-07  \n",
       "3          1  2017-02-18  \n",
       "4          1  2017-03-04  "
      ]
     },
     "execution_count": 3,
     "metadata": {},
     "output_type": "execute_result"
    }
   ],
   "source": [
    "users=pd.read_csv('users.csv')\n",
    "users.head()"
   ]
  },
  {
   "cell_type": "code",
   "execution_count": 4,
   "metadata": {
    "colab": {
     "base_uri": "https://localhost:8080/",
     "height": 293
    },
    "id": "qxUnLqtOnQ5K",
    "outputId": "3caa48fb-5018-4368-b0ad-514b7e5b4d7a"
   },
   "outputs": [
    {
     "data": {
      "application/vnd.google.colaboratory.intrinsic+json": {
       "summary": "{\n  \"name\": \"repos\",\n  \"rows\": 35247,\n  \"fields\": [\n    {\n      \"column\": \"login\",\n      \"properties\": {\n        \"dtype\": \"category\",\n        \"num_unique_values\": 503,\n        \"samples\": [\n          \"mridulnagpal\",\n          \"ajmalsiddiqui\",\n          \"WinterSoldier13\"\n        ],\n        \"semantic_type\": \"\",\n        \"description\": \"\"\n      }\n    },\n    {\n      \"column\": \"full_name\",\n      \"properties\": {\n        \"dtype\": \"string\",\n        \"num_unique_values\": 35247,\n        \"samples\": [\n          \"apnerve/docker-lamp-stack\",\n          \"0xVikasRushi/stwo-samples\",\n          \"pavs315/Qogir-theme\"\n        ],\n        \"semantic_type\": \"\",\n        \"description\": \"\"\n      }\n    },\n    {\n      \"column\": \"created_at\",\n      \"properties\": {\n        \"dtype\": \"object\",\n        \"num_unique_values\": 35241,\n        \"samples\": [\n          \"2017-02-24T07:00:33Z\",\n          \"2020-03-01T16:17:00Z\",\n          \"2022-01-24T03:38:44Z\"\n        ],\n        \"semantic_type\": \"\",\n        \"description\": \"\"\n      }\n    },\n    {\n      \"column\": \"stargazers_count\",\n      \"properties\": {\n        \"dtype\": \"number\",\n        \"std\": 155,\n        \"min\": 0,\n        \"max\": 15896,\n        \"num_unique_values\": 286,\n        \"samples\": [\n          611,\n          149,\n          33\n        ],\n        \"semantic_type\": \"\",\n        \"description\": \"\"\n      }\n    },\n    {\n      \"column\": \"watchers_count\",\n      \"properties\": {\n        \"dtype\": \"number\",\n        \"std\": 155,\n        \"min\": 0,\n        \"max\": 15896,\n        \"num_unique_values\": 286,\n        \"samples\": [\n          611,\n          149,\n          33\n        ],\n        \"semantic_type\": \"\",\n        \"description\": \"\"\n      }\n    },\n    {\n      \"column\": \"language\",\n      \"properties\": {\n        \"dtype\": \"category\",\n        \"num_unique_values\": 143,\n        \"samples\": [\n          \"Lean\",\n          \"Ruby\",\n          \"GCC Machine Description\"\n        ],\n        \"semantic_type\": \"\",\n        \"description\": \"\"\n      }\n    },\n    {\n      \"column\": \"has_projects\",\n      \"properties\": {\n        \"dtype\": \"boolean\",\n        \"num_unique_values\": 2,\n        \"samples\": [\n          false,\n          true\n        ],\n        \"semantic_type\": \"\",\n        \"description\": \"\"\n      }\n    },\n    {\n      \"column\": \"has_wiki\",\n      \"properties\": {\n        \"dtype\": \"boolean\",\n        \"num_unique_values\": 2,\n        \"samples\": [\n          false,\n          true\n        ],\n        \"semantic_type\": \"\",\n        \"description\": \"\"\n      }\n    },\n    {\n      \"column\": \"license_name\",\n      \"properties\": {\n        \"dtype\": \"category\",\n        \"num_unique_values\": 29,\n        \"samples\": [\n          \"ecl-2.0\",\n          \"mit-0\"\n        ],\n        \"semantic_type\": \"\",\n        \"description\": \"\"\n      }\n    }\n  ]\n}",
       "type": "dataframe",
       "variable_name": "repos"
      },
      "text/html": [
       "\n",
       "  <div id=\"df-1db1ccf4-1f1f-49c3-9217-5c7051e8609a\" class=\"colab-df-container\">\n",
       "    <div>\n",
       "<style scoped>\n",
       "    .dataframe tbody tr th:only-of-type {\n",
       "        vertical-align: middle;\n",
       "    }\n",
       "\n",
       "    .dataframe tbody tr th {\n",
       "        vertical-align: top;\n",
       "    }\n",
       "\n",
       "    .dataframe thead th {\n",
       "        text-align: right;\n",
       "    }\n",
       "</style>\n",
       "<table border=\"1\" class=\"dataframe\">\n",
       "  <thead>\n",
       "    <tr style=\"text-align: right;\">\n",
       "      <th></th>\n",
       "      <th>login</th>\n",
       "      <th>full_name</th>\n",
       "      <th>created_at</th>\n",
       "      <th>stargazers_count</th>\n",
       "      <th>watchers_count</th>\n",
       "      <th>language</th>\n",
       "      <th>has_projects</th>\n",
       "      <th>has_wiki</th>\n",
       "      <th>license_name</th>\n",
       "    </tr>\n",
       "  </thead>\n",
       "  <tbody>\n",
       "    <tr>\n",
       "      <th>0</th>\n",
       "      <td>iam-veeramalla</td>\n",
       "      <td>iam-veeramalla/observability-zero-to-hero</td>\n",
       "      <td>2023-03-16T14:41:25Z</td>\n",
       "      <td>1502</td>\n",
       "      <td>1502</td>\n",
       "      <td>Go</td>\n",
       "      <td>True</td>\n",
       "      <td>True</td>\n",
       "      <td>NaN</td>\n",
       "    </tr>\n",
       "    <tr>\n",
       "      <th>1</th>\n",
       "      <td>iam-veeramalla</td>\n",
       "      <td>iam-veeramalla/community-operators-prod</td>\n",
       "      <td>2023-08-16T17:04:56Z</td>\n",
       "      <td>106</td>\n",
       "      <td>106</td>\n",
       "      <td>Dockerfile</td>\n",
       "      <td>True</td>\n",
       "      <td>False</td>\n",
       "      <td>apache-2.0</td>\n",
       "    </tr>\n",
       "    <tr>\n",
       "      <th>2</th>\n",
       "      <td>iam-veeramalla</td>\n",
       "      <td>iam-veeramalla/community-operators</td>\n",
       "      <td>2023-08-11T18:48:35Z</td>\n",
       "      <td>101</td>\n",
       "      <td>101</td>\n",
       "      <td>Dockerfile</td>\n",
       "      <td>True</td>\n",
       "      <td>False</td>\n",
       "      <td>apache-2.0</td>\n",
       "    </tr>\n",
       "    <tr>\n",
       "      <th>3</th>\n",
       "      <td>iam-veeramalla</td>\n",
       "      <td>iam-veeramalla/MERN-docker-compose</td>\n",
       "      <td>2024-08-31T17:17:07Z</td>\n",
       "      <td>82</td>\n",
       "      <td>82</td>\n",
       "      <td>JavaScript</td>\n",
       "      <td>True</td>\n",
       "      <td>True</td>\n",
       "      <td>NaN</td>\n",
       "    </tr>\n",
       "    <tr>\n",
       "      <th>4</th>\n",
       "      <td>iam-veeramalla</td>\n",
       "      <td>iam-veeramalla/argocd-operator</td>\n",
       "      <td>2023-07-03T09:46:13Z</td>\n",
       "      <td>238</td>\n",
       "      <td>238</td>\n",
       "      <td>NaN</td>\n",
       "      <td>True</td>\n",
       "      <td>False</td>\n",
       "      <td>apache-2.0</td>\n",
       "    </tr>\n",
       "  </tbody>\n",
       "</table>\n",
       "</div>\n",
       "    <div class=\"colab-df-buttons\">\n",
       "\n",
       "  <div class=\"colab-df-container\">\n",
       "    <button class=\"colab-df-convert\" onclick=\"convertToInteractive('df-1db1ccf4-1f1f-49c3-9217-5c7051e8609a')\"\n",
       "            title=\"Convert this dataframe to an interactive table.\"\n",
       "            style=\"display:none;\">\n",
       "\n",
       "  <svg xmlns=\"http://www.w3.org/2000/svg\" height=\"24px\" viewBox=\"0 -960 960 960\">\n",
       "    <path d=\"M120-120v-720h720v720H120Zm60-500h600v-160H180v160Zm220 220h160v-160H400v160Zm0 220h160v-160H400v160ZM180-400h160v-160H180v160Zm440 0h160v-160H620v160ZM180-180h160v-160H180v160Zm440 0h160v-160H620v160Z\"/>\n",
       "  </svg>\n",
       "    </button>\n",
       "\n",
       "  <style>\n",
       "    .colab-df-container {\n",
       "      display:flex;\n",
       "      gap: 12px;\n",
       "    }\n",
       "\n",
       "    .colab-df-convert {\n",
       "      background-color: #E8F0FE;\n",
       "      border: none;\n",
       "      border-radius: 50%;\n",
       "      cursor: pointer;\n",
       "      display: none;\n",
       "      fill: #1967D2;\n",
       "      height: 32px;\n",
       "      padding: 0 0 0 0;\n",
       "      width: 32px;\n",
       "    }\n",
       "\n",
       "    .colab-df-convert:hover {\n",
       "      background-color: #E2EBFA;\n",
       "      box-shadow: 0px 1px 2px rgba(60, 64, 67, 0.3), 0px 1px 3px 1px rgba(60, 64, 67, 0.15);\n",
       "      fill: #174EA6;\n",
       "    }\n",
       "\n",
       "    .colab-df-buttons div {\n",
       "      margin-bottom: 4px;\n",
       "    }\n",
       "\n",
       "    [theme=dark] .colab-df-convert {\n",
       "      background-color: #3B4455;\n",
       "      fill: #D2E3FC;\n",
       "    }\n",
       "\n",
       "    [theme=dark] .colab-df-convert:hover {\n",
       "      background-color: #434B5C;\n",
       "      box-shadow: 0px 1px 3px 1px rgba(0, 0, 0, 0.15);\n",
       "      filter: drop-shadow(0px 1px 2px rgba(0, 0, 0, 0.3));\n",
       "      fill: #FFFFFF;\n",
       "    }\n",
       "  </style>\n",
       "\n",
       "    <script>\n",
       "      const buttonEl =\n",
       "        document.querySelector('#df-1db1ccf4-1f1f-49c3-9217-5c7051e8609a button.colab-df-convert');\n",
       "      buttonEl.style.display =\n",
       "        google.colab.kernel.accessAllowed ? 'block' : 'none';\n",
       "\n",
       "      async function convertToInteractive(key) {\n",
       "        const element = document.querySelector('#df-1db1ccf4-1f1f-49c3-9217-5c7051e8609a');\n",
       "        const dataTable =\n",
       "          await google.colab.kernel.invokeFunction('convertToInteractive',\n",
       "                                                    [key], {});\n",
       "        if (!dataTable) return;\n",
       "\n",
       "        const docLinkHtml = 'Like what you see? Visit the ' +\n",
       "          '<a target=\"_blank\" href=https://colab.research.google.com/notebooks/data_table.ipynb>data table notebook</a>'\n",
       "          + ' to learn more about interactive tables.';\n",
       "        element.innerHTML = '';\n",
       "        dataTable['output_type'] = 'display_data';\n",
       "        await google.colab.output.renderOutput(dataTable, element);\n",
       "        const docLink = document.createElement('div');\n",
       "        docLink.innerHTML = docLinkHtml;\n",
       "        element.appendChild(docLink);\n",
       "      }\n",
       "    </script>\n",
       "  </div>\n",
       "\n",
       "\n",
       "<div id=\"df-107b967c-eeab-45dc-958e-3f97a8c958da\">\n",
       "  <button class=\"colab-df-quickchart\" onclick=\"quickchart('df-107b967c-eeab-45dc-958e-3f97a8c958da')\"\n",
       "            title=\"Suggest charts\"\n",
       "            style=\"display:none;\">\n",
       "\n",
       "<svg xmlns=\"http://www.w3.org/2000/svg\" height=\"24px\"viewBox=\"0 0 24 24\"\n",
       "     width=\"24px\">\n",
       "    <g>\n",
       "        <path d=\"M19 3H5c-1.1 0-2 .9-2 2v14c0 1.1.9 2 2 2h14c1.1 0 2-.9 2-2V5c0-1.1-.9-2-2-2zM9 17H7v-7h2v7zm4 0h-2V7h2v10zm4 0h-2v-4h2v4z\"/>\n",
       "    </g>\n",
       "</svg>\n",
       "  </button>\n",
       "\n",
       "<style>\n",
       "  .colab-df-quickchart {\n",
       "      --bg-color: #E8F0FE;\n",
       "      --fill-color: #1967D2;\n",
       "      --hover-bg-color: #E2EBFA;\n",
       "      --hover-fill-color: #174EA6;\n",
       "      --disabled-fill-color: #AAA;\n",
       "      --disabled-bg-color: #DDD;\n",
       "  }\n",
       "\n",
       "  [theme=dark] .colab-df-quickchart {\n",
       "      --bg-color: #3B4455;\n",
       "      --fill-color: #D2E3FC;\n",
       "      --hover-bg-color: #434B5C;\n",
       "      --hover-fill-color: #FFFFFF;\n",
       "      --disabled-bg-color: #3B4455;\n",
       "      --disabled-fill-color: #666;\n",
       "  }\n",
       "\n",
       "  .colab-df-quickchart {\n",
       "    background-color: var(--bg-color);\n",
       "    border: none;\n",
       "    border-radius: 50%;\n",
       "    cursor: pointer;\n",
       "    display: none;\n",
       "    fill: var(--fill-color);\n",
       "    height: 32px;\n",
       "    padding: 0;\n",
       "    width: 32px;\n",
       "  }\n",
       "\n",
       "  .colab-df-quickchart:hover {\n",
       "    background-color: var(--hover-bg-color);\n",
       "    box-shadow: 0 1px 2px rgba(60, 64, 67, 0.3), 0 1px 3px 1px rgba(60, 64, 67, 0.15);\n",
       "    fill: var(--button-hover-fill-color);\n",
       "  }\n",
       "\n",
       "  .colab-df-quickchart-complete:disabled,\n",
       "  .colab-df-quickchart-complete:disabled:hover {\n",
       "    background-color: var(--disabled-bg-color);\n",
       "    fill: var(--disabled-fill-color);\n",
       "    box-shadow: none;\n",
       "  }\n",
       "\n",
       "  .colab-df-spinner {\n",
       "    border: 2px solid var(--fill-color);\n",
       "    border-color: transparent;\n",
       "    border-bottom-color: var(--fill-color);\n",
       "    animation:\n",
       "      spin 1s steps(1) infinite;\n",
       "  }\n",
       "\n",
       "  @keyframes spin {\n",
       "    0% {\n",
       "      border-color: transparent;\n",
       "      border-bottom-color: var(--fill-color);\n",
       "      border-left-color: var(--fill-color);\n",
       "    }\n",
       "    20% {\n",
       "      border-color: transparent;\n",
       "      border-left-color: var(--fill-color);\n",
       "      border-top-color: var(--fill-color);\n",
       "    }\n",
       "    30% {\n",
       "      border-color: transparent;\n",
       "      border-left-color: var(--fill-color);\n",
       "      border-top-color: var(--fill-color);\n",
       "      border-right-color: var(--fill-color);\n",
       "    }\n",
       "    40% {\n",
       "      border-color: transparent;\n",
       "      border-right-color: var(--fill-color);\n",
       "      border-top-color: var(--fill-color);\n",
       "    }\n",
       "    60% {\n",
       "      border-color: transparent;\n",
       "      border-right-color: var(--fill-color);\n",
       "    }\n",
       "    80% {\n",
       "      border-color: transparent;\n",
       "      border-right-color: var(--fill-color);\n",
       "      border-bottom-color: var(--fill-color);\n",
       "    }\n",
       "    90% {\n",
       "      border-color: transparent;\n",
       "      border-bottom-color: var(--fill-color);\n",
       "    }\n",
       "  }\n",
       "</style>\n",
       "\n",
       "  <script>\n",
       "    async function quickchart(key) {\n",
       "      const quickchartButtonEl =\n",
       "        document.querySelector('#' + key + ' button');\n",
       "      quickchartButtonEl.disabled = true;  // To prevent multiple clicks.\n",
       "      quickchartButtonEl.classList.add('colab-df-spinner');\n",
       "      try {\n",
       "        const charts = await google.colab.kernel.invokeFunction(\n",
       "            'suggestCharts', [key], {});\n",
       "      } catch (error) {\n",
       "        console.error('Error during call to suggestCharts:', error);\n",
       "      }\n",
       "      quickchartButtonEl.classList.remove('colab-df-spinner');\n",
       "      quickchartButtonEl.classList.add('colab-df-quickchart-complete');\n",
       "    }\n",
       "    (() => {\n",
       "      let quickchartButtonEl =\n",
       "        document.querySelector('#df-107b967c-eeab-45dc-958e-3f97a8c958da button');\n",
       "      quickchartButtonEl.style.display =\n",
       "        google.colab.kernel.accessAllowed ? 'block' : 'none';\n",
       "    })();\n",
       "  </script>\n",
       "</div>\n",
       "\n",
       "    </div>\n",
       "  </div>\n"
      ],
      "text/plain": [
       "            login                                  full_name  \\\n",
       "0  iam-veeramalla  iam-veeramalla/observability-zero-to-hero   \n",
       "1  iam-veeramalla    iam-veeramalla/community-operators-prod   \n",
       "2  iam-veeramalla         iam-veeramalla/community-operators   \n",
       "3  iam-veeramalla         iam-veeramalla/MERN-docker-compose   \n",
       "4  iam-veeramalla             iam-veeramalla/argocd-operator   \n",
       "\n",
       "             created_at  stargazers_count  watchers_count    language  \\\n",
       "0  2023-03-16T14:41:25Z              1502            1502          Go   \n",
       "1  2023-08-16T17:04:56Z               106             106  Dockerfile   \n",
       "2  2023-08-11T18:48:35Z               101             101  Dockerfile   \n",
       "3  2024-08-31T17:17:07Z                82              82  JavaScript   \n",
       "4  2023-07-03T09:46:13Z               238             238         NaN   \n",
       "\n",
       "   has_projects  has_wiki license_name  \n",
       "0          True      True          NaN  \n",
       "1          True     False   apache-2.0  \n",
       "2          True     False   apache-2.0  \n",
       "3          True      True          NaN  \n",
       "4          True     False   apache-2.0  "
      ]
     },
     "execution_count": 4,
     "metadata": {},
     "output_type": "execute_result"
    }
   ],
   "source": [
    "repos=pd.read_csv('repositories.csv')\n",
    "repos.head()"
   ]
  },
  {
   "cell_type": "markdown",
   "metadata": {
    "id": "83_7_bPNoTdq"
   },
   "source": [
    "# Question-1\n",
    "\n",
    "Who are the top 5 users in Hyderabad with the highest number of followers? List their login in order, comma-separated.\n",
    "\n",
    "Users"
   ]
  },
  {
   "cell_type": "code",
   "execution_count": 63,
   "metadata": {
    "colab": {
     "base_uri": "https://localhost:8080/"
    },
    "id": "NpyfaCx8n1Qj",
    "outputId": "b405430e-bedd-4e08-cd22-44c231078ad7"
   },
   "outputs": [
    {
     "name": "stdout",
     "output_type": "stream",
     "text": [
      "Answer: iam-veeramalla,in28minutes,stacksimplify,thenaveensaggam,MadhavBahl\n"
     ]
    }
   ],
   "source": [
    "top_5_users=users.sort_values(by='followers',ascending=False)\n",
    "top_5_logins = ','.join(top_5_users['login'].head(5))\n",
    "print('Answer:',top_5_logins)"
   ]
  },
  {
   "cell_type": "markdown",
   "metadata": {
    "id": "-pbKUmwRpnFD"
   },
   "source": [
    "# Question-2\n",
    "\n",
    "Who are the 5 earliest registered GitHub users in Hyderabad? List their login in ascending order of created_at, comma-separated.\n",
    "\n",
    "Users"
   ]
  },
  {
   "cell_type": "code",
   "execution_count": 64,
   "metadata": {
    "colab": {
     "base_uri": "https://localhost:8080/"
    },
    "id": "mvZF3EGEp6mI",
    "outputId": "8825bb12-045f-4040-dbaf-ab891e550de5"
   },
   "outputs": [
    {
     "name": "stdout",
     "output_type": "stream",
     "text": [
      "Answer: shabda,sitaramc,bagwanpankaj,srikanthlogic,kulbirsaini\n"
     ]
    }
   ],
   "source": [
    "users['created_at']=pd.to_datetime(users['created_at'])\n",
    "earliest_registered_users=users.sort_values(by='created_at')\n",
    "early_users = ','.join(earliest_registered_users['login'].head(5))\n",
    "print('Answer:',early_users)"
   ]
  },
  {
   "cell_type": "markdown",
   "metadata": {
    "id": "EjdUVqubb6D6"
   },
   "source": [
    "# Question-3\n",
    "\n",
    " What are the 3 most popular license among these users? Ignore missing licenses. List the license_name in order, comma-separated.\n",
    "\n",
    " Licenses"
   ]
  },
  {
   "cell_type": "code",
   "execution_count": 65,
   "metadata": {
    "colab": {
     "base_uri": "https://localhost:8080/"
    },
    "id": "RgmQSF3gbjFT",
    "outputId": "6dcedd94-ad1a-44bd-fa82-e60c83f1ae5d"
   },
   "outputs": [
    {
     "name": "stdout",
     "output_type": "stream",
     "text": [
      "Answer: mit,apache-2.0,other\n"
     ]
    }
   ],
   "source": [
    "top_licenses=repos['license_name'].value_counts().reset_index()\n",
    "top_3_licenses=','.join(top_licenses['license_name'].head(3))\n",
    "print('Answer:',top_3_licenses)"
   ]
  },
  {
   "cell_type": "markdown",
   "metadata": {
    "id": "zWdda19QcsF8"
   },
   "source": [
    "# Question - 4\n",
    "\n",
    "Which company do the majority of these developers work at?\n",
    "\n",
    "Company (cleaned up as explained above)"
   ]
  },
  {
   "cell_type": "code",
   "execution_count": 11,
   "metadata": {
    "colab": {
     "base_uri": "https://localhost:8080/",
     "height": 423
    },
    "id": "SXbNM9UGcxDb",
    "outputId": "d5ae5413-a64f-48ac-836d-81bda51f4925"
   },
   "outputs": [
    {
     "data": {
      "application/vnd.google.colaboratory.intrinsic+json": {
       "summary": "{\n  \"name\": \"users\",\n  \"rows\": 248,\n  \"fields\": [\n    {\n      \"column\": \"company\",\n      \"properties\": {\n        \"dtype\": \"string\",\n        \"num_unique_values\": 248,\n        \"samples\": [\n          \"PRIMERA MEDICAL TECHNOLOGIES\",\n          \"MASAI SCHOOL\",\n          \"BITS PILANI, HYDERABAD CAMPUS\"\n        ],\n        \"semantic_type\": \"\",\n        \"description\": \"\"\n      }\n    },\n    {\n      \"column\": \"login\",\n      \"properties\": {\n        \"dtype\": \"number\",\n        \"std\": 1,\n        \"min\": 1,\n        \"max\": 17,\n        \"num_unique_values\": 8,\n        \"samples\": [\n          12,\n          3,\n          17\n        ],\n        \"semantic_type\": \"\",\n        \"description\": \"\"\n      }\n    }\n  ]\n}",
       "type": "dataframe"
      },
      "text/html": [
       "\n",
       "  <div id=\"df-2b3c58d1-c471-4ce3-a337-6a27abbaa977\" class=\"colab-df-container\">\n",
       "    <div>\n",
       "<style scoped>\n",
       "    .dataframe tbody tr th:only-of-type {\n",
       "        vertical-align: middle;\n",
       "    }\n",
       "\n",
       "    .dataframe tbody tr th {\n",
       "        vertical-align: top;\n",
       "    }\n",
       "\n",
       "    .dataframe thead th {\n",
       "        text-align: right;\n",
       "    }\n",
       "</style>\n",
       "<table border=\"1\" class=\"dataframe\">\n",
       "  <thead>\n",
       "    <tr style=\"text-align: right;\">\n",
       "      <th></th>\n",
       "      <th>company</th>\n",
       "      <th>login</th>\n",
       "    </tr>\n",
       "  </thead>\n",
       "  <tbody>\n",
       "    <tr>\n",
       "      <th>97</th>\n",
       "      <td>IIIT HYDERABAD</td>\n",
       "      <td>17</td>\n",
       "    </tr>\n",
       "    <tr>\n",
       "      <th>146</th>\n",
       "      <td>MICROSOFT</td>\n",
       "      <td>17</td>\n",
       "    </tr>\n",
       "    <tr>\n",
       "      <th>78</th>\n",
       "      <td>GOOGLE</td>\n",
       "      <td>12</td>\n",
       "    </tr>\n",
       "    <tr>\n",
       "      <th>119</th>\n",
       "      <td>INTERNATIONAL INSTITUTE OF INFORMATION TECHNOL...</td>\n",
       "      <td>8</td>\n",
       "    </tr>\n",
       "    <tr>\n",
       "      <th>189</th>\n",
       "      <td>SALESFORCE</td>\n",
       "      <td>5</td>\n",
       "    </tr>\n",
       "    <tr>\n",
       "      <th>...</th>\n",
       "      <td>...</td>\n",
       "      <td>...</td>\n",
       "    </tr>\n",
       "    <tr>\n",
       "      <th>87</th>\n",
       "      <td>HTTPS://LEARNDEVOPSONLINE.COM</td>\n",
       "      <td>1</td>\n",
       "    </tr>\n",
       "    <tr>\n",
       "      <th>88</th>\n",
       "      <td>HTTPS://RAJESHKARRA.ACADEMIA.EDU/</td>\n",
       "      <td>1</td>\n",
       "    </tr>\n",
       "    <tr>\n",
       "      <th>89</th>\n",
       "      <td>HTTPS://WWW.UIBRAINS.COM</td>\n",
       "      <td>1</td>\n",
       "    </tr>\n",
       "    <tr>\n",
       "      <th>90</th>\n",
       "      <td>HUMAN SCIENCES GROUP @ IIITH</td>\n",
       "      <td>1</td>\n",
       "    </tr>\n",
       "    <tr>\n",
       "      <th>247</th>\n",
       "      <td>ZASPER-IO</td>\n",
       "      <td>1</td>\n",
       "    </tr>\n",
       "  </tbody>\n",
       "</table>\n",
       "<p>248 rows × 2 columns</p>\n",
       "</div>\n",
       "    <div class=\"colab-df-buttons\">\n",
       "\n",
       "  <div class=\"colab-df-container\">\n",
       "    <button class=\"colab-df-convert\" onclick=\"convertToInteractive('df-2b3c58d1-c471-4ce3-a337-6a27abbaa977')\"\n",
       "            title=\"Convert this dataframe to an interactive table.\"\n",
       "            style=\"display:none;\">\n",
       "\n",
       "  <svg xmlns=\"http://www.w3.org/2000/svg\" height=\"24px\" viewBox=\"0 -960 960 960\">\n",
       "    <path d=\"M120-120v-720h720v720H120Zm60-500h600v-160H180v160Zm220 220h160v-160H400v160Zm0 220h160v-160H400v160ZM180-400h160v-160H180v160Zm440 0h160v-160H620v160ZM180-180h160v-160H180v160Zm440 0h160v-160H620v160Z\"/>\n",
       "  </svg>\n",
       "    </button>\n",
       "\n",
       "  <style>\n",
       "    .colab-df-container {\n",
       "      display:flex;\n",
       "      gap: 12px;\n",
       "    }\n",
       "\n",
       "    .colab-df-convert {\n",
       "      background-color: #E8F0FE;\n",
       "      border: none;\n",
       "      border-radius: 50%;\n",
       "      cursor: pointer;\n",
       "      display: none;\n",
       "      fill: #1967D2;\n",
       "      height: 32px;\n",
       "      padding: 0 0 0 0;\n",
       "      width: 32px;\n",
       "    }\n",
       "\n",
       "    .colab-df-convert:hover {\n",
       "      background-color: #E2EBFA;\n",
       "      box-shadow: 0px 1px 2px rgba(60, 64, 67, 0.3), 0px 1px 3px 1px rgba(60, 64, 67, 0.15);\n",
       "      fill: #174EA6;\n",
       "    }\n",
       "\n",
       "    .colab-df-buttons div {\n",
       "      margin-bottom: 4px;\n",
       "    }\n",
       "\n",
       "    [theme=dark] .colab-df-convert {\n",
       "      background-color: #3B4455;\n",
       "      fill: #D2E3FC;\n",
       "    }\n",
       "\n",
       "    [theme=dark] .colab-df-convert:hover {\n",
       "      background-color: #434B5C;\n",
       "      box-shadow: 0px 1px 3px 1px rgba(0, 0, 0, 0.15);\n",
       "      filter: drop-shadow(0px 1px 2px rgba(0, 0, 0, 0.3));\n",
       "      fill: #FFFFFF;\n",
       "    }\n",
       "  </style>\n",
       "\n",
       "    <script>\n",
       "      const buttonEl =\n",
       "        document.querySelector('#df-2b3c58d1-c471-4ce3-a337-6a27abbaa977 button.colab-df-convert');\n",
       "      buttonEl.style.display =\n",
       "        google.colab.kernel.accessAllowed ? 'block' : 'none';\n",
       "\n",
       "      async function convertToInteractive(key) {\n",
       "        const element = document.querySelector('#df-2b3c58d1-c471-4ce3-a337-6a27abbaa977');\n",
       "        const dataTable =\n",
       "          await google.colab.kernel.invokeFunction('convertToInteractive',\n",
       "                                                    [key], {});\n",
       "        if (!dataTable) return;\n",
       "\n",
       "        const docLinkHtml = 'Like what you see? Visit the ' +\n",
       "          '<a target=\"_blank\" href=https://colab.research.google.com/notebooks/data_table.ipynb>data table notebook</a>'\n",
       "          + ' to learn more about interactive tables.';\n",
       "        element.innerHTML = '';\n",
       "        dataTable['output_type'] = 'display_data';\n",
       "        await google.colab.output.renderOutput(dataTable, element);\n",
       "        const docLink = document.createElement('div');\n",
       "        docLink.innerHTML = docLinkHtml;\n",
       "        element.appendChild(docLink);\n",
       "      }\n",
       "    </script>\n",
       "  </div>\n",
       "\n",
       "\n",
       "<div id=\"df-44877472-5bf6-496b-bbb4-9edb68bd11e1\">\n",
       "  <button class=\"colab-df-quickchart\" onclick=\"quickchart('df-44877472-5bf6-496b-bbb4-9edb68bd11e1')\"\n",
       "            title=\"Suggest charts\"\n",
       "            style=\"display:none;\">\n",
       "\n",
       "<svg xmlns=\"http://www.w3.org/2000/svg\" height=\"24px\"viewBox=\"0 0 24 24\"\n",
       "     width=\"24px\">\n",
       "    <g>\n",
       "        <path d=\"M19 3H5c-1.1 0-2 .9-2 2v14c0 1.1.9 2 2 2h14c1.1 0 2-.9 2-2V5c0-1.1-.9-2-2-2zM9 17H7v-7h2v7zm4 0h-2V7h2v10zm4 0h-2v-4h2v4z\"/>\n",
       "    </g>\n",
       "</svg>\n",
       "  </button>\n",
       "\n",
       "<style>\n",
       "  .colab-df-quickchart {\n",
       "      --bg-color: #E8F0FE;\n",
       "      --fill-color: #1967D2;\n",
       "      --hover-bg-color: #E2EBFA;\n",
       "      --hover-fill-color: #174EA6;\n",
       "      --disabled-fill-color: #AAA;\n",
       "      --disabled-bg-color: #DDD;\n",
       "  }\n",
       "\n",
       "  [theme=dark] .colab-df-quickchart {\n",
       "      --bg-color: #3B4455;\n",
       "      --fill-color: #D2E3FC;\n",
       "      --hover-bg-color: #434B5C;\n",
       "      --hover-fill-color: #FFFFFF;\n",
       "      --disabled-bg-color: #3B4455;\n",
       "      --disabled-fill-color: #666;\n",
       "  }\n",
       "\n",
       "  .colab-df-quickchart {\n",
       "    background-color: var(--bg-color);\n",
       "    border: none;\n",
       "    border-radius: 50%;\n",
       "    cursor: pointer;\n",
       "    display: none;\n",
       "    fill: var(--fill-color);\n",
       "    height: 32px;\n",
       "    padding: 0;\n",
       "    width: 32px;\n",
       "  }\n",
       "\n",
       "  .colab-df-quickchart:hover {\n",
       "    background-color: var(--hover-bg-color);\n",
       "    box-shadow: 0 1px 2px rgba(60, 64, 67, 0.3), 0 1px 3px 1px rgba(60, 64, 67, 0.15);\n",
       "    fill: var(--button-hover-fill-color);\n",
       "  }\n",
       "\n",
       "  .colab-df-quickchart-complete:disabled,\n",
       "  .colab-df-quickchart-complete:disabled:hover {\n",
       "    background-color: var(--disabled-bg-color);\n",
       "    fill: var(--disabled-fill-color);\n",
       "    box-shadow: none;\n",
       "  }\n",
       "\n",
       "  .colab-df-spinner {\n",
       "    border: 2px solid var(--fill-color);\n",
       "    border-color: transparent;\n",
       "    border-bottom-color: var(--fill-color);\n",
       "    animation:\n",
       "      spin 1s steps(1) infinite;\n",
       "  }\n",
       "\n",
       "  @keyframes spin {\n",
       "    0% {\n",
       "      border-color: transparent;\n",
       "      border-bottom-color: var(--fill-color);\n",
       "      border-left-color: var(--fill-color);\n",
       "    }\n",
       "    20% {\n",
       "      border-color: transparent;\n",
       "      border-left-color: var(--fill-color);\n",
       "      border-top-color: var(--fill-color);\n",
       "    }\n",
       "    30% {\n",
       "      border-color: transparent;\n",
       "      border-left-color: var(--fill-color);\n",
       "      border-top-color: var(--fill-color);\n",
       "      border-right-color: var(--fill-color);\n",
       "    }\n",
       "    40% {\n",
       "      border-color: transparent;\n",
       "      border-right-color: var(--fill-color);\n",
       "      border-top-color: var(--fill-color);\n",
       "    }\n",
       "    60% {\n",
       "      border-color: transparent;\n",
       "      border-right-color: var(--fill-color);\n",
       "    }\n",
       "    80% {\n",
       "      border-color: transparent;\n",
       "      border-right-color: var(--fill-color);\n",
       "      border-bottom-color: var(--fill-color);\n",
       "    }\n",
       "    90% {\n",
       "      border-color: transparent;\n",
       "      border-bottom-color: var(--fill-color);\n",
       "    }\n",
       "  }\n",
       "</style>\n",
       "\n",
       "  <script>\n",
       "    async function quickchart(key) {\n",
       "      const quickchartButtonEl =\n",
       "        document.querySelector('#' + key + ' button');\n",
       "      quickchartButtonEl.disabled = true;  // To prevent multiple clicks.\n",
       "      quickchartButtonEl.classList.add('colab-df-spinner');\n",
       "      try {\n",
       "        const charts = await google.colab.kernel.invokeFunction(\n",
       "            'suggestCharts', [key], {});\n",
       "      } catch (error) {\n",
       "        console.error('Error during call to suggestCharts:', error);\n",
       "      }\n",
       "      quickchartButtonEl.classList.remove('colab-df-spinner');\n",
       "      quickchartButtonEl.classList.add('colab-df-quickchart-complete');\n",
       "    }\n",
       "    (() => {\n",
       "      let quickchartButtonEl =\n",
       "        document.querySelector('#df-44877472-5bf6-496b-bbb4-9edb68bd11e1 button');\n",
       "      quickchartButtonEl.style.display =\n",
       "        google.colab.kernel.accessAllowed ? 'block' : 'none';\n",
       "    })();\n",
       "  </script>\n",
       "</div>\n",
       "\n",
       "    </div>\n",
       "  </div>\n"
      ],
      "text/plain": [
       "                                               company  login\n",
       "97                                      IIIT HYDERABAD     17\n",
       "146                                          MICROSOFT     17\n",
       "78                                              GOOGLE     12\n",
       "119  INTERNATIONAL INSTITUTE OF INFORMATION TECHNOL...      8\n",
       "189                                         SALESFORCE      5\n",
       "..                                                 ...    ...\n",
       "87                       HTTPS://LEARNDEVOPSONLINE.COM      1\n",
       "88                   HTTPS://RAJESHKARRA.ACADEMIA.EDU/      1\n",
       "89                            HTTPS://WWW.UIBRAINS.COM      1\n",
       "90                        HUMAN SCIENCES GROUP @ IIITH      1\n",
       "247                                          ZASPER-IO      1\n",
       "\n",
       "[248 rows x 2 columns]"
      ]
     },
     "execution_count": 11,
     "metadata": {},
     "output_type": "execute_result"
    }
   ],
   "source": [
    "users.groupby('company')['login'].count().reset_index().sort_values(by='login',ascending=False)"
   ]
  },
  {
   "cell_type": "markdown",
   "metadata": {
    "id": "g4FVYiubdpQn"
   },
   "source": [
    "IIT HYDERABAD is not a company. So, MICROSOFT should be the answer."
   ]
  },
  {
   "cell_type": "markdown",
   "metadata": {
    "id": "-b5RjCmTd3-l"
   },
   "source": [
    "# Question - 5\n",
    "\n",
    "Which programming language is most popular among these users?\n",
    "\n",
    "Language"
   ]
  },
  {
   "cell_type": "code",
   "execution_count": 14,
   "metadata": {
    "colab": {
     "base_uri": "https://localhost:8080/",
     "height": 36
    },
    "id": "9RB97GhQdZxG",
    "outputId": "683d17e6-f38b-48af-f14a-65c296133d91"
   },
   "outputs": [
    {
     "data": {
      "application/vnd.google.colaboratory.intrinsic+json": {
       "type": "string"
      },
      "text/plain": [
       "'JavaScript'"
      ]
     },
     "execution_count": 14,
     "metadata": {},
     "output_type": "execute_result"
    }
   ],
   "source": [
    "repos.groupby('language')['login'].count().reset_index().sort_values(by='login',ascending=False).reset_index(drop=True)['language'][0]"
   ]
  },
  {
   "cell_type": "markdown",
   "metadata": {
    "id": "ohEt3n6IeszA"
   },
   "source": [
    "# Question - 6\n",
    "\n",
    "Which programming language is the second most popular among users who joined after 2020?"
   ]
  },
  {
   "cell_type": "code",
   "execution_count": 55,
   "metadata": {
    "colab": {
     "base_uri": "https://localhost:8080/",
     "height": 36
    },
    "id": "XQ6vrQnreSpy",
    "outputId": "e9bc6945-8fdb-494c-81d6-ac6d0b26b1da"
   },
   "outputs": [
    {
     "data": {
      "application/vnd.google.colaboratory.intrinsic+json": {
       "type": "string"
      },
      "text/plain": [
       "'HTML'"
      ]
     },
     "execution_count": 55,
     "metadata": {},
     "output_type": "execute_result"
    }
   ],
   "source": [
    "after_2020=users[users['created_at'].dt.year>2020]\n",
    "merged_df=pd.merge(after_2020,repos,on='login',how='inner')\n",
    "merged_df['language'].value_counts().reset_index()['language'][1]"
   ]
  },
  {
   "cell_type": "markdown",
   "metadata": {
    "id": "3MUsrjGueygR"
   },
   "source": [
    "# Question - 7\n",
    "\n",
    "Which language has the highest average number of stars per repository?\n",
    "\n",
    "Language"
   ]
  },
  {
   "cell_type": "code",
   "execution_count": 17,
   "metadata": {
    "colab": {
     "base_uri": "https://localhost:8080/",
     "height": 36
    },
    "id": "7RVFcJPMe3PO",
    "outputId": "928e7120-1963-47f6-8048-5433759927fe"
   },
   "outputs": [
    {
     "data": {
      "application/vnd.google.colaboratory.intrinsic+json": {
       "type": "string"
      },
      "text/plain": [
       "'Perl'"
      ]
     },
     "execution_count": 17,
     "metadata": {},
     "output_type": "execute_result"
    }
   ],
   "source": [
    "repos.groupby('language')['stargazers_count'].mean().reset_index().sort_values(by='stargazers_count',ascending=False).reset_index(drop=True)['language'][0]"
   ]
  },
  {
   "cell_type": "markdown",
   "metadata": {
    "id": "FqOfrcYZe_aQ"
   },
   "source": [
    "# Question - 8\n",
    "\n",
    "Let's define leader_strength as followers / (1 + following). Who are the top 5 in terms of leader_strength? List their login in order, comma-separated.\n",
    "\n",
    "User Login"
   ]
  },
  {
   "cell_type": "code",
   "execution_count": 66,
   "metadata": {
    "colab": {
     "base_uri": "https://localhost:8080/"
    },
    "id": "ZFD0PncVfFcT",
    "outputId": "f203aca3-6327-40cb-f0e7-cef8f88f8ce4"
   },
   "outputs": [
    {
     "name": "stdout",
     "output_type": "stream",
     "text": [
      "Answer: in28minutes,iam-veeramalla,stacksimplify,ashokitschool,thenaveensaggam\n"
     ]
    }
   ],
   "source": [
    "leaders=users\n",
    "leaders['leader_strength']=leaders['followers']/(1+leaders['following'])\n",
    "top_leaders=leaders.sort_values(by='leader_strength',ascending=False).reset_index(drop=True)\n",
    "top_5_leaders=','.join(top_leaders['login'].head(5))\n",
    "print('Answer:',top_5_leaders)"
   ]
  },
  {
   "cell_type": "markdown",
   "metadata": {
    "id": "dlzJr4sqm1HZ"
   },
   "source": [
    "# Question - 9\n",
    "\n",
    " What is the correlation between the number of followers and the number of public repositories among users in Hyderabad?\n",
    "\n",
    " Correlation between followers and repos (to 3 decimal places, e.g. 0.123 or -0.123)"
   ]
  },
  {
   "cell_type": "code",
   "execution_count": 20,
   "metadata": {
    "colab": {
     "base_uri": "https://localhost:8080/"
    },
    "id": "Vxrkr1e2msHG",
    "outputId": "7fe2af51-dd74-478b-8bce-43c493ffe060"
   },
   "outputs": [
    {
     "data": {
      "text/plain": [
       "0.006"
      ]
     },
     "execution_count": 20,
     "metadata": {},
     "output_type": "execute_result"
    }
   ],
   "source": [
    "round(users['public_repos'].corr(users['followers']),3)"
   ]
  },
  {
   "cell_type": "markdown",
   "metadata": {
    "id": "PAqN7RgJnO-O"
   },
   "source": [
    "# Question - 10\n",
    "\n",
    " Does creating more repos help users get more followers? Using regression, estimate how many additional followers a user gets per additional public repository.\n",
    "\n",
    " Regression slope of followers on repos (to 3 decimal places, e.g. 0.123 or -0.123)"
   ]
  },
  {
   "cell_type": "code",
   "execution_count": 68,
   "metadata": {
    "colab": {
     "base_uri": "https://localhost:8080/"
    },
    "id": "65yIU-S1ms7h",
    "outputId": "d813b37d-4f3f-4a50-a199-72622349d859"
   },
   "outputs": [
    {
     "name": "stdout",
     "output_type": "stream",
     "text": [
      "                            OLS Regression Results                            \n",
      "==============================================================================\n",
      "Dep. Variable:              followers   R-squared:                       0.000\n",
      "Model:                            OLS   Adj. R-squared:                 -0.002\n",
      "Method:                 Least Squares   F-statistic:                   0.01987\n",
      "Date:                Sat, 02 Nov 2024   Prob (F-statistic):              0.888\n",
      "Time:                        17:27:23   Log-Likelihood:                -4187.9\n",
      "No. Observations:                 504   AIC:                             8380.\n",
      "Df Residuals:                     502   BIC:                             8388.\n",
      "Df Model:                           1                                         \n",
      "Covariance Type:            nonrobust                                         \n",
      "================================================================================\n",
      "                   coef    std err          t      P>|t|      [0.025      0.975]\n",
      "--------------------------------------------------------------------------------\n",
      "const          201.3247     56.601      3.557      0.000      90.120     312.530\n",
      "public_repos     0.0702      0.498      0.141      0.888      -0.909       1.049\n",
      "==============================================================================\n",
      "Omnibus:                     1022.509   Durbin-Watson:                   0.265\n",
      "Prob(Omnibus):                  0.000   Jarque-Bera (JB):          1062782.338\n",
      "Skew:                          14.631   Prob(JB):                         0.00\n",
      "Kurtosis:                     226.053   Cond. No.                         147.\n",
      "==============================================================================\n",
      "\n",
      "Notes:\n",
      "[1] Standard Errors assume that the covariance matrix of the errors is correctly specified.\n",
      "Additional followers per public repository: 0.070\n"
     ]
    }
   ],
   "source": [
    "# Step 1: Define the dependent and independent variables\n",
    "X = users['public_repos']  # Independent variable (public_repos)\n",
    "y = users['followers']      # Dependent variable (followers)\n",
    "\n",
    "# Step 2: Add a constant to the independent variable for the regression model\n",
    "X = sm.add_constant(X)\n",
    "\n",
    "# Step 3: Fit the regression model\n",
    "model = sm.OLS(y, X).fit()\n",
    "\n",
    "# Print the regression results\n",
    "print(model.summary())\n",
    "\n",
    "# Step 4: Get the coefficient for public_repos\n",
    "additional_followers_per_repo = model.params['public_repos']\n",
    "print(f\"Additional followers per public repository: {additional_followers_per_repo:.3f}\")\n"
   ]
  },
  {
   "cell_type": "markdown",
   "metadata": {
    "id": "O8f657lPnSn2"
   },
   "source": [
    "# Question - 11\n",
    "Do people typically enable projects and wikis together? What is the correlation between a repo having projects enabled and having wiki enabled?\n",
    "\n",
    "Correlation between projects and wiki enabled (to 3 decimal places, e.g. 0.123 or -0.123)"
   ]
  },
  {
   "cell_type": "code",
   "execution_count": 75,
   "metadata": {
    "colab": {
     "base_uri": "https://localhost:8080/"
    },
    "id": "5t1Er5TR7TDL",
    "outputId": "8842840b-e995-4fc9-828b-34dabdfa114c"
   },
   "outputs": [
    {
     "name": "stdout",
     "output_type": "stream",
     "text": [
      "0.17244978508860107\n"
     ]
    }
   ],
   "source": [
    "correlation, p_value = pearsonr(repos['has_projects'], repos['has_wiki'])\n",
    "print(correlation)"
   ]
  },
  {
   "cell_type": "code",
   "execution_count": 73,
   "metadata": {
    "colab": {
     "base_uri": "https://localhost:8080/"
    },
    "id": "L8una_ThnUzD",
    "outputId": "2b2659b8-f388-47d8-9e01-2005db7180c5"
   },
   "outputs": [
    {
     "data": {
      "text/plain": [
       "0.17244978508860023"
      ]
     },
     "execution_count": 73,
     "metadata": {},
     "output_type": "execute_result"
    }
   ],
   "source": [
    "(repos['has_projects'].astype('int')).corr(repos['has_wiki'].astype('int'))"
   ]
  },
  {
   "cell_type": "markdown",
   "metadata": {
    "id": "cNJX7Ycgnic2"
   },
   "source": [
    "# Question - 12\n",
    "\n",
    "Do hireable users follow more people than those who are not hireable?\n",
    "\n",
    "Average of following per user for hireable=true minus the average following for the rest (to 3 decimal places, e.g. 12.345 or -12.345)"
   ]
  },
  {
   "cell_type": "code",
   "execution_count": null,
   "metadata": {
    "id": "N6dFWh2ynlUD"
   },
   "outputs": [],
   "source": []
  },
  {
   "cell_type": "markdown",
   "metadata": {
    "id": "34XzU3LfoDUH"
   },
   "source": [
    "# Question - 13\n",
    "\n",
    "Some developers write long bios. Does that help them get more followers? What's the impact of the length of their bio (in Unicode words, split by whitespace) with followers? (Ignore people without bios)\n",
    "\n",
    "Regression slope of followers on bio word count (to 3 decimal places, e.g. 12.345 or -12.345)"
   ]
  },
  {
   "cell_type": "code",
   "execution_count": null,
   "metadata": {
    "id": "XZitsJORoMrD"
   },
   "outputs": [],
   "source": []
  },
  {
   "cell_type": "markdown",
   "metadata": {
    "id": "1CkoiXfypJYm"
   },
   "source": [
    "# Question - 14\n",
    "\n",
    "Who created the most repositories on weekends (UTC)? List the top 5 users' login in order, comma-separated\n",
    "\n",
    "Users login"
   ]
  },
  {
   "cell_type": "code",
   "execution_count": 76,
   "metadata": {
    "colab": {
     "base_uri": "https://localhost:8080/"
    },
    "id": "nTWpV0xRpO0S",
    "outputId": "e9929f17-dddc-45a1-c9e8-6a6198faef2b"
   },
   "outputs": [
    {
     "name": "stdout",
     "output_type": "stream",
     "text": [
      "Answer: hemanth22,anjijava16,wahidKhan74,elevenpassin,narasimhavuppala\n"
     ]
    }
   ],
   "source": [
    "repos['created_at']=pd.to_datetime(repos['created_at'])\n",
    "weekend_repos=repos[repos['created_at'].dt.weekday>=5]\n",
    "top_weekenders=weekend_repos['login'].value_counts().reset_index()\n",
    "top_5_weekenders=','.join(top_weekenders['login'].head())\n",
    "print('Answer:',top_5_weekenders)"
   ]
  },
  {
   "cell_type": "markdown",
   "metadata": {
    "id": "FfW9IUaVpQJe"
   },
   "source": [
    "# Question - 15\n",
    "\n",
    " Do people who are hireable share their email addresses more often?\n",
    "\n",
    "[fraction of users with email when hireable=true] minus [fraction of users with email for the rest] (to 3 decimal places, e.g. 0.123 or -0.123)"
   ]
  },
  {
   "cell_type": "code",
   "execution_count": 33,
   "metadata": {
    "colab": {
     "base_uri": "https://localhost:8080/"
    },
    "id": "-7-Ne0-qsP3F",
    "outputId": "0ec35324-195e-4050-8b13-1218619c9cc1"
   },
   "outputs": [
    {
     "name": "stdout",
     "output_type": "stream",
     "text": [
      "<class 'pandas.core.frame.DataFrame'>\n",
      "RangeIndex: 504 entries, 0 to 503\n",
      "Data columns (total 12 columns):\n",
      " #   Column           Non-Null Count  Dtype         \n",
      "---  ------           --------------  -----         \n",
      " 0   login            504 non-null    object        \n",
      " 1   name             498 non-null    object        \n",
      " 2   company          318 non-null    object        \n",
      " 3   location         504 non-null    object        \n",
      " 4   email            264 non-null    object        \n",
      " 5   hireable         195 non-null    object        \n",
      " 6   bio              416 non-null    object        \n",
      " 7   public_repos     504 non-null    int64         \n",
      " 8   followers        504 non-null    int64         \n",
      " 9   following        504 non-null    int64         \n",
      " 10  created_at       504 non-null    datetime64[ns]\n",
      " 11  leader_strength  504 non-null    float64       \n",
      "dtypes: datetime64[ns](1), float64(1), int64(3), object(7)\n",
      "memory usage: 47.4+ KB\n"
     ]
    }
   ],
   "source": [
    "users.info()"
   ]
  },
  {
   "cell_type": "code",
   "execution_count": 43,
   "metadata": {
    "colab": {
     "base_uri": "https://localhost:8080/"
    },
    "id": "8yeO0dHepa6y",
    "outputId": "e4780a80-2fa8-43ae-943c-ecd811dcf378"
   },
   "outputs": [
    {
     "data": {
      "text/plain": [
       "0.004"
      ]
     },
     "execution_count": 43,
     "metadata": {},
     "output_type": "execute_result"
    }
   ],
   "source": [
    "hireable_with_email_count=len(users[(users['hireable']==True) & (users['email'].notna())])\n",
    "non_hireable_with_email_count=len(users[(users['hireable']!=True) & (users['email'].notna())])\n",
    "round(hireable_with_email_count/len(users)-non_hireable_with_email_count/len(users),3)"
   ]
  },
  {
   "cell_type": "markdown",
   "metadata": {
    "id": "ChRkwgGLpb4M"
   },
   "source": [
    "# Question - 16\n",
    "\n",
    "Let's assume that the last word in a user's name is their surname (ignore missing names, trim and split by whitespace.) What's the most common surname? (If there's a tie, list them all, comma-separated, alphabetically)\n",
    "\n",
    "Most common surname(s)"
   ]
  },
  {
   "cell_type": "code",
   "execution_count": 29,
   "metadata": {
    "colab": {
     "base_uri": "https://localhost:8080/",
     "height": 36
    },
    "id": "Aeepyl8MphOC",
    "outputId": "47ec13f1-6302-4d3d-af04-03e3c1294206"
   },
   "outputs": [
    {
     "data": {
      "application/vnd.google.colaboratory.intrinsic+json": {
       "type": "string"
      },
      "text/plain": [
       "'Kumar'"
      ]
     },
     "execution_count": 29,
     "metadata": {},
     "output_type": "execute_result"
    }
   ],
   "source": [
    "users_name=users['name'].str.split(' ',expand=True).rename({0:'first_name',1:'surname'},axis=1)\n",
    "users_name.groupby('surname')['first_name'].count().reset_index().sort_values(by='first_name',ascending=False).reset_index(drop=True)['surname'][0]"
   ]
  }
 ],
 "metadata": {
  "colab": {
   "provenance": [],
   "toc_visible": true
  },
  "kernelspec": {
   "display_name": "Python 3",
   "name": "python3"
  },
  "language_info": {
   "name": "python"
  }
 },
 "nbformat": 4,
 "nbformat_minor": 0
}
